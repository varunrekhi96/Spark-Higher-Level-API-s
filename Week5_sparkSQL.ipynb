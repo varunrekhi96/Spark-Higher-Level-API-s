{
 "cells": [
  {
   "cell_type": "code",
   "execution_count": null,
   "id": "6348f221",
   "metadata": {},
   "outputs": [],
   "source": [
    "from pyspark.sql import SparkSession\n",
    "import getpass\n",
    "username = getpass.getuser()\n",
    "spark = SparkSession. \\\n",
    "builder. \\\n",
    "config('spark.ui.port', '0'). \\\n",
    "config(\"spark.sql.warehouse.dir\", f\"/user/{username}/warehouse\"). \\\n",
    "enableHiveSupport(). \\\n",
    "master('yarn'). \\\n",
    "getOrCreate()"
   ]
  },
  {
   "cell_type": "markdown",
   "id": "0b6fea51",
   "metadata": {},
   "source": [
    "##### Please replace the external id: itv006277 number with your id number in the code"
   ]
  },
  {
   "cell_type": "code",
   "execution_count": null,
   "id": "695bb687",
   "metadata": {},
   "outputs": [],
   "source": [
    "spark.sql(\"create database if not exists itv006277_retail\")"
   ]
  },
  {
   "cell_type": "code",
   "execution_count": null,
   "id": "7a807ebf",
   "metadata": {},
   "outputs": [],
   "source": [
    "spark.sql(\"show databases\").show()"
   ]
  },
  {
   "cell_type": "code",
   "execution_count": null,
   "id": "d5c0b01b",
   "metadata": {},
   "outputs": [],
   "source": [
    "spark.sql(\"show databases\").filter(\"namespace like 'retail%'\").show()"
   ]
  },
  {
   "cell_type": "code",
   "execution_count": null,
   "id": "d7048182",
   "metadata": {},
   "outputs": [],
   "source": [
    "spark.sql(\"use retail\")"
   ]
  },
  {
   "cell_type": "code",
   "execution_count": null,
   "id": "8177308a",
   "metadata": {},
   "outputs": [],
   "source": [
    "spark.sql(\"show databases\").show()"
   ]
  },
  {
   "cell_type": "code",
   "execution_count": null,
   "id": "a59c562c",
   "metadata": {},
   "outputs": [],
   "source": [
    "spark.sql(\"use itv006277_retail\")"
   ]
  },
  {
   "cell_type": "code",
   "execution_count": null,
   "id": "22b1ab91",
   "metadata": {},
   "outputs": [],
   "source": [
    "spark.sql(\"show tables\").show()"
   ]
  },
  {
   "cell_type": "code",
   "execution_count": null,
   "id": "068b68c7",
   "metadata": {},
   "outputs": [],
   "source": [
    "spark.sql(\"create table itv006277_retail.orders (order_id integer, order_date string, customer_id integer, order_status string)\")"
   ]
  },
  {
   "cell_type": "code",
   "execution_count": null,
   "id": "2c6e21cc",
   "metadata": {},
   "outputs": [],
   "source": [
    "spark.sql(\"show tables\").show()"
   ]
  },
  {
   "cell_type": "code",
   "execution_count": null,
   "id": "ee4834db",
   "metadata": {},
   "outputs": [],
   "source": [
    "orders_df = spark.read \\\n",
    ".format(\"csv\") \\\n",
    ".option(\"header\", \"true\") \\\n",
    ".option(\"inferSchema\", \"true\") \\\n",
    ".load(\"/public/trendytech/orders_wh/*\")"
   ]
  },
  {
   "cell_type": "code",
   "execution_count": null,
   "id": "7ab01669",
   "metadata": {},
   "outputs": [],
   "source": [
    "orders_df.createOrReplaceTempView(\"orders\")"
   ]
  },
  {
   "cell_type": "code",
   "execution_count": null,
   "id": "c879fe47",
   "metadata": {},
   "outputs": [],
   "source": [
    "spark.sql(\"show tables\").show()"
   ]
  },
  {
   "cell_type": "code",
   "execution_count": null,
   "id": "6a2b069e",
   "metadata": {},
   "outputs": [],
   "source": [
    "spark.sql(\"insert into itv006277_retail.orders select * from orders\")"
   ]
  },
  {
   "cell_type": "code",
   "execution_count": null,
   "id": "52f69824",
   "metadata": {},
   "outputs": [],
   "source": [
    "spark.sql(\"select * from itv006277_retail.orders limit 5\").show()"
   ]
  },
  {
   "cell_type": "code",
   "execution_count": null,
   "id": "5293d159",
   "metadata": {},
   "outputs": [],
   "source": [
    "spark.sql(\"show tables\").show()"
   ]
  },
  {
   "cell_type": "code",
   "execution_count": null,
   "id": "485b3c2a",
   "metadata": {},
   "outputs": [],
   "source": [
    "spark.sql(\"describe table itv006277_retail.orders\").show()"
   ]
  },
  {
   "cell_type": "code",
   "execution_count": null,
   "id": "396c189a",
   "metadata": {},
   "outputs": [],
   "source": [
    "spark.sql(\"describe extended itv006277_retail.orders\").show()"
   ]
  },
  {
   "cell_type": "code",
   "execution_count": null,
   "id": "57238f5e",
   "metadata": {},
   "outputs": [],
   "source": [
    "spark.sql(\"describe extended itv006277_retail.orders\").show(truncate = False)"
   ]
  },
  {
   "cell_type": "code",
   "execution_count": null,
   "id": "14681d30",
   "metadata": {},
   "outputs": [],
   "source": []
  }
 ],
 "metadata": {
  "kernelspec": {
   "display_name": "Pyspark 3",
   "language": "python",
   "name": "pyspark3"
  },
  "language_info": {
   "codemirror_mode": {
    "name": "ipython",
    "version": 3
   },
   "file_extension": ".py",
   "mimetype": "text/x-python",
   "name": "python",
   "nbconvert_exporter": "python",
   "pygments_lexer": "ipython3",
   "version": "3.6.12"
  }
 },
 "nbformat": 4,
 "nbformat_minor": 5
}
