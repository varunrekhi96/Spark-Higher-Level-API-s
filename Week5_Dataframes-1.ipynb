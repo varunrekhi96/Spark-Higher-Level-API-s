{
 "cells": [
  {
   "cell_type": "code",
   "execution_count": null,
   "id": "13f613d1",
   "metadata": {},
   "outputs": [],
   "source": [
    "from pyspark.sql import SparkSession\n",
    "import getpass\n",
    "username = getpass.getuser()\n",
    "spark = SparkSession. \\\n",
    "builder. \\\n",
    "config('spark.ui.port', '0'). \\\n",
    "config(\"spark.sql.warehouse.dir\", f\"/user/{username}/warehouse\"). \\\n",
    "enableHiveSupport(). \\\n",
    "master('yarn'). \\\n",
    "getOrCreate()"
   ]
  },
  {
   "cell_type": "code",
   "execution_count": null,
   "id": "b8753f78",
   "metadata": {},
   "outputs": [],
   "source": [
    "orders_df = spark.read \\\n",
    ".format(\"csv\") \\\n",
    ".option(\"header\", \"true\") \\\n",
    ".option(\"inferSchema\", \"true\") \\\n",
    ".load(\"/public/trendytech/orders_wh/*\")"
   ]
  },
  {
   "cell_type": "code",
   "execution_count": null,
   "id": "8aa65785",
   "metadata": {},
   "outputs": [],
   "source": [
    "orders_df.show()"
   ]
  },
  {
   "cell_type": "code",
   "execution_count": null,
   "id": "371f8a5a",
   "metadata": {},
   "outputs": [],
   "source": [
    "orders_df.printSchema()"
   ]
  },
  {
   "cell_type": "code",
   "execution_count": null,
   "id": "4d042f9d",
   "metadata": {},
   "outputs": [],
   "source": [
    "transformed_df1 = orders_df.withColumnRenamed(\"order_status\",\"status\")"
   ]
  },
  {
   "cell_type": "code",
   "execution_count": null,
   "id": "5b896060",
   "metadata": {},
   "outputs": [],
   "source": [
    "transaformed_df1.show()"
   ]
  },
  {
   "cell_type": "code",
   "execution_count": null,
   "id": "d037b411",
   "metadata": {},
   "outputs": [],
   "source": [
    "from pyspark.sql.functions import *"
   ]
  },
  {
   "cell_type": "code",
   "execution_count": null,
   "id": "537c8134",
   "metadata": {},
   "outputs": [],
   "source": [
    "transformed_df2 = transformed_df1.withColumn(\"order_date_new\", to_timestamp(\"order_date\"))"
   ]
  },
  {
   "cell_type": "code",
   "execution_count": null,
   "id": "a8afbb99",
   "metadata": {},
   "outputs": [],
   "source": [
    "transformed_df2.printSchema()"
   ]
  },
  {
   "cell_type": "code",
   "execution_count": null,
   "id": "e5c04d64",
   "metadata": {},
   "outputs": [],
   "source": []
  }
 ],
 "metadata": {
  "kernelspec": {
   "display_name": "Pyspark 3",
   "language": "python",
   "name": "pyspark3"
  },
  "language_info": {
   "codemirror_mode": {
    "name": "ipython",
    "version": 3
   },
   "file_extension": ".py",
   "mimetype": "text/x-python",
   "name": "python",
   "nbconvert_exporter": "python",
   "pygments_lexer": "ipython3",
   "version": "3.6.12"
  }
 },
 "nbformat": 4,
 "nbformat_minor": 5
}
